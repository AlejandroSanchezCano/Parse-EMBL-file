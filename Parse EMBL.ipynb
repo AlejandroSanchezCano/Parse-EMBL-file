{
 "cells": [
  {
   "cell_type": "code",
   "execution_count": 1,
   "metadata": {},
   "outputs": [
    {
     "name": "stdout",
     "output_type": "stream",
     "text": [
      "OBO file.obo: fmt(1.2) rel(2021-05-01) 47,284 GO Terms\n",
      "[]\n",
      "[]\n",
      "['GO:0000160']\n",
      "['phosphorelay signal transduction system']\n",
      "['GO:0003690', 'GO:0006355']\n",
      "['double-stranded DNA binding', 'regulation of transcription, DNA-templated']\n",
      "[]\n",
      "[]\n",
      "['GO:0006914', 'GO:0048208']\n",
      "['autophagy', 'COPII vesicle coating']\n",
      "['GO:0003690', 'GO:0006355']\n",
      "['double-stranded DNA binding', 'regulation of transcription, DNA-templated']\n",
      "[]\n",
      "[]\n",
      "['GO:0003690', 'GO:0006355']\n",
      "['double-stranded DNA binding', 'regulation of transcription, DNA-templated']\n",
      "['GO:0003690', 'GO:0006355']\n",
      "['double-stranded DNA binding', 'regulation of transcription, DNA-templated']\n",
      "['GO:0003676', 'GO:0003723']\n",
      "['nucleic acid binding', 'RNA binding']\n",
      "['GO:0003690', 'GO:0006355']\n",
      "['double-stranded DNA binding', 'regulation of transcription, DNA-templated']\n",
      "['GO:0003690', 'GO:0006355']\n",
      "['double-stranded DNA binding', 'regulation of transcription, DNA-templated']\n",
      "['GO:0005515']\n",
      "['protein binding']\n",
      "['GO:0003690', 'GO:0003690', 'GO:0006353', 'GO:0006355', 'GO:0006355', 'GO:0009507', 'GO:0009658', 'GO:0032502']\n",
      "['double-stranded DNA binding', 'double-stranded DNA binding', 'DNA-templated transcription, termination', 'regulation of transcription, DNA-templated', 'regulation of transcription, DNA-templated', 'chloroplast', 'chloroplast organization', 'developmental process']\n",
      "['GO:0003824', 'GO:0004069', 'GO:0006520', 'GO:0008483', 'GO:0009058', 'GO:0030170']\n",
      "['catalytic activity', 'L-aspartate:2-oxoglutarate aminotransferase activity', 'cellular amino acid metabolic process', 'transaminase activity', 'biosynthetic process', 'pyridoxal phosphate binding']\n",
      "['GO:0003690', 'GO:0006355']\n",
      "['double-stranded DNA binding', 'regulation of transcription, DNA-templated']\n",
      "['GO:0004672', 'GO:0004842', 'GO:0005524', 'GO:0006468', 'GO:0016567']\n",
      "['protein kinase activity', 'ubiquitin-protein transferase activity', 'ATP binding', 'protein phosphorylation', 'protein ubiquitination']\n"
     ]
    },
    {
     "ename": "KeyError",
     "evalue": "'db_xref'",
     "output_type": "error",
     "traceback": [
      "\u001b[1;31m---------------------------------------------------------------------------\u001b[0m",
      "\u001b[1;31mKeyError\u001b[0m                                  Traceback (most recent call last)",
      "\u001b[1;32m<ipython-input-1-2390dcf93f36>\u001b[0m in \u001b[0;36m<module>\u001b[1;34m\u001b[0m\n\u001b[0;32m     11\u001b[0m             \u001b[1;32mif\u001b[0m \u001b[0mfeature\u001b[0m\u001b[1;33m.\u001b[0m\u001b[0mtype\u001b[0m \u001b[1;33m==\u001b[0m \u001b[1;34m\"CDS\"\u001b[0m\u001b[1;33m:\u001b[0m\u001b[1;33m\u001b[0m\u001b[1;33m\u001b[0m\u001b[0m\n\u001b[0;32m     12\u001b[0m                 \u001b[0mgo_translated_list\u001b[0m\u001b[1;33m=\u001b[0m\u001b[1;33m[\u001b[0m\u001b[1;33m]\u001b[0m\u001b[1;33m\u001b[0m\u001b[1;33m\u001b[0m\u001b[0m\n\u001b[1;32m---> 13\u001b[1;33m                 \u001b[0mgo_list\u001b[0m \u001b[1;33m=\u001b[0m \u001b[1;33m[\u001b[0m\u001b[0mi\u001b[0m \u001b[1;32mfor\u001b[0m \u001b[0mi\u001b[0m \u001b[1;32min\u001b[0m \u001b[0mfeature\u001b[0m\u001b[1;33m.\u001b[0m\u001b[0mqualifiers\u001b[0m\u001b[1;33m[\u001b[0m\u001b[1;34m'db_xref'\u001b[0m\u001b[1;33m]\u001b[0m \u001b[1;32mif\u001b[0m \u001b[0mi\u001b[0m\u001b[1;33m.\u001b[0m\u001b[0mstartswith\u001b[0m\u001b[1;33m(\u001b[0m\u001b[1;34m'GO:'\u001b[0m\u001b[1;33m)\u001b[0m\u001b[1;33m]\u001b[0m\u001b[1;33m\u001b[0m\u001b[1;33m\u001b[0m\u001b[0m\n\u001b[0m\u001b[0;32m     14\u001b[0m                 \u001b[0mprint\u001b[0m\u001b[1;33m(\u001b[0m\u001b[0mgo_list\u001b[0m\u001b[1;33m)\u001b[0m\u001b[1;33m\u001b[0m\u001b[1;33m\u001b[0m\u001b[0m\n\u001b[0;32m     15\u001b[0m                 \u001b[1;32mfor\u001b[0m \u001b[0mgo\u001b[0m \u001b[1;32min\u001b[0m \u001b[0mgo_list\u001b[0m\u001b[1;33m:\u001b[0m\u001b[1;33m\u001b[0m\u001b[1;33m\u001b[0m\u001b[0m\n",
      "\u001b[1;31mKeyError\u001b[0m: 'db_xref'"
     ]
    }
   ],
   "source": [
    "from Bio import Seq,SeqIO    #SeqIO (input-output) is used to pase GenBank files\n",
    "from Bio.Seq import Seq\n",
    "from goatools import obo_parser\n",
    "OBO = obo_parser.GODag('OBO file.obo')  #OBO is a file with all the GO\n",
    "multifasta=open(\"Multifasta_Marcador_MxRA_6D_400kb.txt\",mode=\"w\") #Genes 400kb far from the marker\n",
    "go_txt=open(\"GO_Marcador_MxRA_6D_400kb.txt\", mode=\"w\") #Same file but only gene name + GO\n",
    "handle_gbk = \"Marcador_MxRA_6D_400kb.txt\" #Genbank file\n",
    "with open(handle_gbk, \"r\") as input_handle:\n",
    "    for record in SeqIO.parse(input_handle, \"genbank\"):\n",
    "        for feature in record.features:\n",
    "            if feature.type == \"CDS\":\n",
    "                go_translated_list=[]\n",
    "                go_list = [i for i in feature.qualifiers['db_xref'] if i.startswith('GO:')]\n",
    "                print(go_list)\n",
    "                for go in go_list:\n",
    "                    try: go_translated_list.append(OBO[go].name) #Retrieve the meaning of the GO identifier\n",
    "                    except: go_translated_list.append(go)   #Some GOs are not read correctly\n",
    "                print(go_translated_list)\n",
    "                gene = feature.qualifiers['gene'][0]  #Gene ID\n",
    "                sequence = feature.qualifiers['translation'][0]  #Sequence \n",
    "                gos = \"\\t\".join(go_translated_list)  #Convert list of GO in string separated by tab\n",
    "                multifasta.write(\">\"+gene+\" \"+gos+\"\\n\"+sequence+\"\\n\")\n",
    "                go_txt.write(\">\"+gene+\" \"+gos+\"\\n\")\n",
    "multifasta.close()\n",
    "go_txt.close()"
   ]
  },
  {
   "cell_type": "code",
   "execution_count": null,
   "metadata": {},
   "outputs": [],
   "source": []
  },
  {
   "cell_type": "code",
   "execution_count": null,
   "metadata": {},
   "outputs": [],
   "source": []
  }
 ],
 "metadata": {
  "kernelspec": {
   "display_name": "Python 3",
   "language": "python",
   "name": "python3"
  }
 },
 "nbformat": 4,
 "nbformat_minor": 4
}
